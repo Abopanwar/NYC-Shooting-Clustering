{
 "cells": [
  {
   "cell_type": "markdown",
   "id": "1e9eff04",
   "metadata": {},
   "source": [
    "# NYC Shootings Cluster Analysis"
   ]
  },
  {
   "cell_type": "code",
   "execution_count": 169,
   "id": "b9380757",
   "metadata": {},
   "outputs": [],
   "source": [
    "# Importing all necessary libraries\n",
    "import pandas as pd\n",
    "import numpy as np\n",
    "import matplotlib.pyplot as plt\n",
    "import seaborn as sns\n",
    "import warnings\n",
    "warnings.filterwarnings(\"ignore\")\n",
    "from sklearn.preprocessing import StandardScaler\n",
    "from sklearn.cluster import KMeans, DBSCAN\n",
    "from sklearn.metrics import silhouette_score\n",
    "import folium\n",
    "from datetime import datetime"
   ]
  },
  {
   "cell_type": "markdown",
   "id": "221c169a",
   "metadata": {},
   "source": [
    "# Data Collection"
   ]
  },
  {
   "cell_type": "code",
   "execution_count": 170,
   "id": "19080620",
   "metadata": {},
   "outputs": [
    {
     "data": {
      "text/html": [
       "<div>\n",
       "<style scoped>\n",
       "    .dataframe tbody tr th:only-of-type {\n",
       "        vertical-align: middle;\n",
       "    }\n",
       "\n",
       "    .dataframe tbody tr th {\n",
       "        vertical-align: top;\n",
       "    }\n",
       "\n",
       "    .dataframe thead th {\n",
       "        text-align: right;\n",
       "    }\n",
       "</style>\n",
       "<table border=\"1\" class=\"dataframe\">\n",
       "  <thead>\n",
       "    <tr style=\"text-align: right;\">\n",
       "      <th></th>\n",
       "      <th>INCIDENT_KEY</th>\n",
       "      <th>OCCUR_DATE</th>\n",
       "      <th>OCCUR_TIME</th>\n",
       "      <th>BORO</th>\n",
       "      <th>LOC_OF_OCCUR_DESC</th>\n",
       "      <th>PRECINCT</th>\n",
       "      <th>JURISDICTION_CODE</th>\n",
       "      <th>LOC_CLASSFCTN_DESC</th>\n",
       "      <th>LOCATION_DESC</th>\n",
       "      <th>STATISTICAL_MURDER_FLAG</th>\n",
       "      <th>...</th>\n",
       "      <th>PERP_SEX</th>\n",
       "      <th>PERP_RACE</th>\n",
       "      <th>VIC_AGE_GROUP</th>\n",
       "      <th>VIC_SEX</th>\n",
       "      <th>VIC_RACE</th>\n",
       "      <th>X_COORD_CD</th>\n",
       "      <th>Y_COORD_CD</th>\n",
       "      <th>Latitude</th>\n",
       "      <th>Longitude</th>\n",
       "      <th>Lon_Lat</th>\n",
       "    </tr>\n",
       "  </thead>\n",
       "  <tbody>\n",
       "    <tr>\n",
       "      <th>0</th>\n",
       "      <td>228798151</td>\n",
       "      <td>05/27/2021</td>\n",
       "      <td>21:30:00</td>\n",
       "      <td>QUEENS</td>\n",
       "      <td>NaN</td>\n",
       "      <td>105</td>\n",
       "      <td>0.0</td>\n",
       "      <td>NaN</td>\n",
       "      <td>NaN</td>\n",
       "      <td>False</td>\n",
       "      <td>...</td>\n",
       "      <td>NaN</td>\n",
       "      <td>NaN</td>\n",
       "      <td>18-24</td>\n",
       "      <td>M</td>\n",
       "      <td>BLACK</td>\n",
       "      <td>1.058925e+06</td>\n",
       "      <td>180924.000000</td>\n",
       "      <td>40.662965</td>\n",
       "      <td>-73.730839</td>\n",
       "      <td>POINT (-73.73083868899994 40.662964620000025)</td>\n",
       "    </tr>\n",
       "    <tr>\n",
       "      <th>1</th>\n",
       "      <td>137471050</td>\n",
       "      <td>06/27/2014</td>\n",
       "      <td>17:40:00</td>\n",
       "      <td>BRONX</td>\n",
       "      <td>NaN</td>\n",
       "      <td>40</td>\n",
       "      <td>0.0</td>\n",
       "      <td>NaN</td>\n",
       "      <td>NaN</td>\n",
       "      <td>False</td>\n",
       "      <td>...</td>\n",
       "      <td>NaN</td>\n",
       "      <td>NaN</td>\n",
       "      <td>18-24</td>\n",
       "      <td>M</td>\n",
       "      <td>BLACK</td>\n",
       "      <td>1.005028e+06</td>\n",
       "      <td>234516.000000</td>\n",
       "      <td>40.810352</td>\n",
       "      <td>-73.924942</td>\n",
       "      <td>POINT (-73.92494232599995 40.81035186300006)</td>\n",
       "    </tr>\n",
       "    <tr>\n",
       "      <th>2</th>\n",
       "      <td>147998800</td>\n",
       "      <td>11/21/2015</td>\n",
       "      <td>03:56:00</td>\n",
       "      <td>QUEENS</td>\n",
       "      <td>NaN</td>\n",
       "      <td>108</td>\n",
       "      <td>0.0</td>\n",
       "      <td>NaN</td>\n",
       "      <td>NaN</td>\n",
       "      <td>True</td>\n",
       "      <td>...</td>\n",
       "      <td>NaN</td>\n",
       "      <td>NaN</td>\n",
       "      <td>25-44</td>\n",
       "      <td>M</td>\n",
       "      <td>WHITE</td>\n",
       "      <td>1.007668e+06</td>\n",
       "      <td>209836.531250</td>\n",
       "      <td>40.742607</td>\n",
       "      <td>-73.915492</td>\n",
       "      <td>POINT (-73.91549174199997 40.74260663300004)</td>\n",
       "    </tr>\n",
       "    <tr>\n",
       "      <th>3</th>\n",
       "      <td>146837977</td>\n",
       "      <td>10/09/2015</td>\n",
       "      <td>18:30:00</td>\n",
       "      <td>BRONX</td>\n",
       "      <td>NaN</td>\n",
       "      <td>44</td>\n",
       "      <td>0.0</td>\n",
       "      <td>NaN</td>\n",
       "      <td>NaN</td>\n",
       "      <td>False</td>\n",
       "      <td>...</td>\n",
       "      <td>NaN</td>\n",
       "      <td>NaN</td>\n",
       "      <td>&lt;18</td>\n",
       "      <td>M</td>\n",
       "      <td>WHITE HISPANIC</td>\n",
       "      <td>1.006537e+06</td>\n",
       "      <td>244511.140625</td>\n",
       "      <td>40.837782</td>\n",
       "      <td>-73.919457</td>\n",
       "      <td>POINT (-73.91945661499994 40.83778200300003)</td>\n",
       "    </tr>\n",
       "    <tr>\n",
       "      <th>4</th>\n",
       "      <td>58921844</td>\n",
       "      <td>02/19/2009</td>\n",
       "      <td>22:58:00</td>\n",
       "      <td>BRONX</td>\n",
       "      <td>NaN</td>\n",
       "      <td>47</td>\n",
       "      <td>0.0</td>\n",
       "      <td>NaN</td>\n",
       "      <td>NaN</td>\n",
       "      <td>True</td>\n",
       "      <td>...</td>\n",
       "      <td>M</td>\n",
       "      <td>BLACK</td>\n",
       "      <td>45-64</td>\n",
       "      <td>M</td>\n",
       "      <td>BLACK</td>\n",
       "      <td>1.024922e+06</td>\n",
       "      <td>262189.406250</td>\n",
       "      <td>40.886238</td>\n",
       "      <td>-73.852910</td>\n",
       "      <td>POINT (-73.85290950899997 40.88623791800006)</td>\n",
       "    </tr>\n",
       "    <tr>\n",
       "      <th>...</th>\n",
       "      <td>...</td>\n",
       "      <td>...</td>\n",
       "      <td>...</td>\n",
       "      <td>...</td>\n",
       "      <td>...</td>\n",
       "      <td>...</td>\n",
       "      <td>...</td>\n",
       "      <td>...</td>\n",
       "      <td>...</td>\n",
       "      <td>...</td>\n",
       "      <td>...</td>\n",
       "      <td>...</td>\n",
       "      <td>...</td>\n",
       "      <td>...</td>\n",
       "      <td>...</td>\n",
       "      <td>...</td>\n",
       "      <td>...</td>\n",
       "      <td>...</td>\n",
       "      <td>...</td>\n",
       "      <td>...</td>\n",
       "      <td>...</td>\n",
       "    </tr>\n",
       "    <tr>\n",
       "      <th>27307</th>\n",
       "      <td>245029823</td>\n",
       "      <td>05/14/2022</td>\n",
       "      <td>03:02:00</td>\n",
       "      <td>BRONX</td>\n",
       "      <td>OUTSIDE</td>\n",
       "      <td>48</td>\n",
       "      <td>0.0</td>\n",
       "      <td>STREET</td>\n",
       "      <td>(null)</td>\n",
       "      <td>False</td>\n",
       "      <td>...</td>\n",
       "      <td>(null)</td>\n",
       "      <td>(null)</td>\n",
       "      <td>18-24</td>\n",
       "      <td>M</td>\n",
       "      <td>BLACK</td>\n",
       "      <td>1.011526e+06</td>\n",
       "      <td>247828.000000</td>\n",
       "      <td>40.846864</td>\n",
       "      <td>-73.901413</td>\n",
       "      <td>POINT (-73.90141321 40.84686352)</td>\n",
       "    </tr>\n",
       "    <tr>\n",
       "      <th>27308</th>\n",
       "      <td>239583450</td>\n",
       "      <td>01/22/2022</td>\n",
       "      <td>13:15:00</td>\n",
       "      <td>MANHATTAN</td>\n",
       "      <td>OUTSIDE</td>\n",
       "      <td>30</td>\n",
       "      <td>0.0</td>\n",
       "      <td>STREET</td>\n",
       "      <td>(null)</td>\n",
       "      <td>False</td>\n",
       "      <td>...</td>\n",
       "      <td>F</td>\n",
       "      <td>WHITE HISPANIC</td>\n",
       "      <td>25-44</td>\n",
       "      <td>M</td>\n",
       "      <td>WHITE HISPANIC</td>\n",
       "      <td>9.974580e+05</td>\n",
       "      <td>240485.000000</td>\n",
       "      <td>40.826743</td>\n",
       "      <td>-73.952273</td>\n",
       "      <td>POINT (-73.952273 40.826743)</td>\n",
       "    </tr>\n",
       "    <tr>\n",
       "      <th>27309</th>\n",
       "      <td>246825728</td>\n",
       "      <td>06/18/2022</td>\n",
       "      <td>03:29:00</td>\n",
       "      <td>MANHATTAN</td>\n",
       "      <td>OUTSIDE</td>\n",
       "      <td>32</td>\n",
       "      <td>0.0</td>\n",
       "      <td>STREET</td>\n",
       "      <td>(null)</td>\n",
       "      <td>False</td>\n",
       "      <td>...</td>\n",
       "      <td>M</td>\n",
       "      <td>BLACK</td>\n",
       "      <td>25-44</td>\n",
       "      <td>M</td>\n",
       "      <td>BLACK</td>\n",
       "      <td>1.000999e+06</td>\n",
       "      <td>234464.000000</td>\n",
       "      <td>40.810209</td>\n",
       "      <td>-73.939496</td>\n",
       "      <td>POINT (-73.9394955 40.81020941)</td>\n",
       "    </tr>\n",
       "    <tr>\n",
       "      <th>27310</th>\n",
       "      <td>246876579</td>\n",
       "      <td>06/19/2022</td>\n",
       "      <td>20:08:00</td>\n",
       "      <td>BRONX</td>\n",
       "      <td>INSIDE</td>\n",
       "      <td>46</td>\n",
       "      <td>2.0</td>\n",
       "      <td>HOUSING</td>\n",
       "      <td>MULTI DWELL - PUBLIC HOUS</td>\n",
       "      <td>False</td>\n",
       "      <td>...</td>\n",
       "      <td>M</td>\n",
       "      <td>BLACK</td>\n",
       "      <td>25-44</td>\n",
       "      <td>M</td>\n",
       "      <td>WHITE HISPANIC</td>\n",
       "      <td>1.012980e+06</td>\n",
       "      <td>251028.000000</td>\n",
       "      <td>40.855644</td>\n",
       "      <td>-73.896141</td>\n",
       "      <td>POINT (-73.896141 40.855644)</td>\n",
       "    </tr>\n",
       "    <tr>\n",
       "      <th>27311</th>\n",
       "      <td>239861542</td>\n",
       "      <td>01/28/2022</td>\n",
       "      <td>18:14:00</td>\n",
       "      <td>BRONX</td>\n",
       "      <td>OUTSIDE</td>\n",
       "      <td>45</td>\n",
       "      <td>0.0</td>\n",
       "      <td>STREET</td>\n",
       "      <td>(null)</td>\n",
       "      <td>False</td>\n",
       "      <td>...</td>\n",
       "      <td>M</td>\n",
       "      <td>BLACK</td>\n",
       "      <td>18-24</td>\n",
       "      <td>M</td>\n",
       "      <td>BLACK</td>\n",
       "      <td>1.026549e+06</td>\n",
       "      <td>244293.000000</td>\n",
       "      <td>40.837102</td>\n",
       "      <td>-73.847134</td>\n",
       "      <td>POINT (-73.847134 40.837102)</td>\n",
       "    </tr>\n",
       "  </tbody>\n",
       "</table>\n",
       "<p>27312 rows × 21 columns</p>\n",
       "</div>"
      ],
      "text/plain": [
       "       INCIDENT_KEY  OCCUR_DATE OCCUR_TIME       BORO LOC_OF_OCCUR_DESC  \\\n",
       "0         228798151  05/27/2021   21:30:00     QUEENS               NaN   \n",
       "1         137471050  06/27/2014   17:40:00      BRONX               NaN   \n",
       "2         147998800  11/21/2015   03:56:00     QUEENS               NaN   \n",
       "3         146837977  10/09/2015   18:30:00      BRONX               NaN   \n",
       "4          58921844  02/19/2009   22:58:00      BRONX               NaN   \n",
       "...             ...         ...        ...        ...               ...   \n",
       "27307     245029823  05/14/2022   03:02:00      BRONX           OUTSIDE   \n",
       "27308     239583450  01/22/2022   13:15:00  MANHATTAN           OUTSIDE   \n",
       "27309     246825728  06/18/2022   03:29:00  MANHATTAN           OUTSIDE   \n",
       "27310     246876579  06/19/2022   20:08:00      BRONX            INSIDE   \n",
       "27311     239861542  01/28/2022   18:14:00      BRONX           OUTSIDE   \n",
       "\n",
       "       PRECINCT  JURISDICTION_CODE LOC_CLASSFCTN_DESC  \\\n",
       "0           105                0.0                NaN   \n",
       "1            40                0.0                NaN   \n",
       "2           108                0.0                NaN   \n",
       "3            44                0.0                NaN   \n",
       "4            47                0.0                NaN   \n",
       "...         ...                ...                ...   \n",
       "27307        48                0.0             STREET   \n",
       "27308        30                0.0             STREET   \n",
       "27309        32                0.0             STREET   \n",
       "27310        46                2.0            HOUSING   \n",
       "27311        45                0.0             STREET   \n",
       "\n",
       "                   LOCATION_DESC  STATISTICAL_MURDER_FLAG  ... PERP_SEX  \\\n",
       "0                            NaN                    False  ...      NaN   \n",
       "1                            NaN                    False  ...      NaN   \n",
       "2                            NaN                     True  ...      NaN   \n",
       "3                            NaN                    False  ...      NaN   \n",
       "4                            NaN                     True  ...        M   \n",
       "...                          ...                      ...  ...      ...   \n",
       "27307                     (null)                    False  ...   (null)   \n",
       "27308                     (null)                    False  ...        F   \n",
       "27309                     (null)                    False  ...        M   \n",
       "27310  MULTI DWELL - PUBLIC HOUS                    False  ...        M   \n",
       "27311                     (null)                    False  ...        M   \n",
       "\n",
       "            PERP_RACE VIC_AGE_GROUP VIC_SEX        VIC_RACE    X_COORD_CD  \\\n",
       "0                 NaN         18-24       M           BLACK  1.058925e+06   \n",
       "1                 NaN         18-24       M           BLACK  1.005028e+06   \n",
       "2                 NaN         25-44       M           WHITE  1.007668e+06   \n",
       "3                 NaN           <18       M  WHITE HISPANIC  1.006537e+06   \n",
       "4               BLACK         45-64       M           BLACK  1.024922e+06   \n",
       "...               ...           ...     ...             ...           ...   \n",
       "27307          (null)         18-24       M           BLACK  1.011526e+06   \n",
       "27308  WHITE HISPANIC         25-44       M  WHITE HISPANIC  9.974580e+05   \n",
       "27309           BLACK         25-44       M           BLACK  1.000999e+06   \n",
       "27310           BLACK         25-44       M  WHITE HISPANIC  1.012980e+06   \n",
       "27311           BLACK         18-24       M           BLACK  1.026549e+06   \n",
       "\n",
       "          Y_COORD_CD   Latitude  Longitude  \\\n",
       "0      180924.000000  40.662965 -73.730839   \n",
       "1      234516.000000  40.810352 -73.924942   \n",
       "2      209836.531250  40.742607 -73.915492   \n",
       "3      244511.140625  40.837782 -73.919457   \n",
       "4      262189.406250  40.886238 -73.852910   \n",
       "...              ...        ...        ...   \n",
       "27307  247828.000000  40.846864 -73.901413   \n",
       "27308  240485.000000  40.826743 -73.952273   \n",
       "27309  234464.000000  40.810209 -73.939496   \n",
       "27310  251028.000000  40.855644 -73.896141   \n",
       "27311  244293.000000  40.837102 -73.847134   \n",
       "\n",
       "                                             Lon_Lat  \n",
       "0      POINT (-73.73083868899994 40.662964620000025)  \n",
       "1       POINT (-73.92494232599995 40.81035186300006)  \n",
       "2       POINT (-73.91549174199997 40.74260663300004)  \n",
       "3       POINT (-73.91945661499994 40.83778200300003)  \n",
       "4       POINT (-73.85290950899997 40.88623791800006)  \n",
       "...                                              ...  \n",
       "27307               POINT (-73.90141321 40.84686352)  \n",
       "27308                   POINT (-73.952273 40.826743)  \n",
       "27309                POINT (-73.9394955 40.81020941)  \n",
       "27310                   POINT (-73.896141 40.855644)  \n",
       "27311                   POINT (-73.847134 40.837102)  \n",
       "\n",
       "[27312 rows x 21 columns]"
      ]
     },
     "execution_count": 170,
     "metadata": {},
     "output_type": "execute_result"
    }
   ],
   "source": [
    "ny_sc = pd.read_csv(\"NYPD_Shooting_Incident_Data__Historic_.csv\")\n",
    "ny_sc"
   ]
  },
  {
   "cell_type": "markdown",
   "id": "7638cfc3",
   "metadata": {},
   "source": [
    "# Data Preparation"
   ]
  },
  {
   "cell_type": "code",
   "execution_count": 171,
   "id": "0e76efa4",
   "metadata": {},
   "outputs": [
    {
     "name": "stdout",
     "output_type": "stream",
     "text": [
      "First few rows of the dataset:\n",
      "   INCIDENT_KEY  OCCUR_DATE OCCUR_TIME    BORO LOC_OF_OCCUR_DESC  PRECINCT  \\\n",
      "0     228798151  05/27/2021   21:30:00  QUEENS               NaN       105   \n",
      "1     137471050  06/27/2014   17:40:00   BRONX               NaN        40   \n",
      "2     147998800  11/21/2015   03:56:00  QUEENS               NaN       108   \n",
      "3     146837977  10/09/2015   18:30:00   BRONX               NaN        44   \n",
      "4      58921844  02/19/2009   22:58:00   BRONX               NaN        47   \n",
      "\n",
      "   JURISDICTION_CODE LOC_CLASSFCTN_DESC LOCATION_DESC  \\\n",
      "0                0.0                NaN           NaN   \n",
      "1                0.0                NaN           NaN   \n",
      "2                0.0                NaN           NaN   \n",
      "3                0.0                NaN           NaN   \n",
      "4                0.0                NaN           NaN   \n",
      "\n",
      "   STATISTICAL_MURDER_FLAG  ... PERP_SEX PERP_RACE VIC_AGE_GROUP VIC_SEX  \\\n",
      "0                    False  ...      NaN       NaN         18-24       M   \n",
      "1                    False  ...      NaN       NaN         18-24       M   \n",
      "2                     True  ...      NaN       NaN         25-44       M   \n",
      "3                    False  ...      NaN       NaN           <18       M   \n",
      "4                     True  ...        M     BLACK         45-64       M   \n",
      "\n",
      "         VIC_RACE    X_COORD_CD     Y_COORD_CD   Latitude  Longitude  \\\n",
      "0           BLACK  1.058925e+06  180924.000000  40.662965 -73.730839   \n",
      "1           BLACK  1.005028e+06  234516.000000  40.810352 -73.924942   \n",
      "2           WHITE  1.007668e+06  209836.531250  40.742607 -73.915492   \n",
      "3  WHITE HISPANIC  1.006537e+06  244511.140625  40.837782 -73.919457   \n",
      "4           BLACK  1.024922e+06  262189.406250  40.886238 -73.852910   \n",
      "\n",
      "                                         Lon_Lat  \n",
      "0  POINT (-73.73083868899994 40.662964620000025)  \n",
      "1   POINT (-73.92494232599995 40.81035186300006)  \n",
      "2   POINT (-73.91549174199997 40.74260663300004)  \n",
      "3   POINT (-73.91945661499994 40.83778200300003)  \n",
      "4   POINT (-73.85290950899997 40.88623791800006)  \n",
      "\n",
      "[5 rows x 21 columns]\n"
     ]
    }
   ],
   "source": [
    "# Display the first few rows of the dataset\n",
    "print(\"First few rows of the dataset:\")\n",
    "print(ny_sc.head())"
   ]
  },
  {
   "cell_type": "code",
   "execution_count": 172,
   "id": "f53f3a20",
   "metadata": {},
   "outputs": [
    {
     "name": "stdout",
     "output_type": "stream",
     "text": [
      "\n",
      "Summary statistics of numerical features:\n",
      "       INCIDENT_KEY      PRECINCT  JURISDICTION_CODE    X_COORD_CD  \\\n",
      "count  2.731200e+04  27312.000000       27310.000000  2.731200e+04   \n",
      "mean   1.208605e+08     65.635362           0.326913  1.009449e+06   \n",
      "std    7.341286e+07     27.305705           0.737743  1.837783e+04   \n",
      "min    9.953245e+06      1.000000           0.000000  9.149281e+05   \n",
      "25%    6.386088e+07     44.000000           0.000000  1.000029e+06   \n",
      "50%    9.037222e+07     68.000000           0.000000  1.007731e+06   \n",
      "75%    1.888102e+08     81.000000           0.000000  1.016838e+06   \n",
      "max    2.611902e+08    123.000000           2.000000  1.066815e+06   \n",
      "\n",
      "          Y_COORD_CD      Latitude     Longitude  \n",
      "count   27312.000000  27302.000000  27302.000000  \n",
      "mean   208127.401608     40.737892    -73.909051  \n",
      "std     31886.377757      0.087525      0.066272  \n",
      "min    125756.718750     40.511586    -74.249303  \n",
      "25%    182834.335938     40.668481    -73.943027  \n",
      "50%    194486.570312     40.700318    -73.915221  \n",
      "75%    239518.468750     40.824067    -73.882330  \n",
      "max    271127.687500     40.910818    -73.702046  \n"
     ]
    }
   ],
   "source": [
    "# Summary statistics of numerical features\n",
    "print(\"\\nSummary statistics of numerical features:\")\n",
    "print(ny_sc.describe())"
   ]
  },
  {
   "cell_type": "code",
   "execution_count": 173,
   "id": "cb04c11e",
   "metadata": {},
   "outputs": [
    {
     "name": "stdout",
     "output_type": "stream",
     "text": [
      "\n",
      "Data types and missing values:\n",
      "<class 'pandas.core.frame.DataFrame'>\n",
      "RangeIndex: 27312 entries, 0 to 27311\n",
      "Data columns (total 21 columns):\n",
      " #   Column                   Non-Null Count  Dtype  \n",
      "---  ------                   --------------  -----  \n",
      " 0   INCIDENT_KEY             27312 non-null  int64  \n",
      " 1   OCCUR_DATE               27312 non-null  object \n",
      " 2   OCCUR_TIME               27312 non-null  object \n",
      " 3   BORO                     27312 non-null  object \n",
      " 4   LOC_OF_OCCUR_DESC        1716 non-null   object \n",
      " 5   PRECINCT                 27312 non-null  int64  \n",
      " 6   JURISDICTION_CODE        27310 non-null  float64\n",
      " 7   LOC_CLASSFCTN_DESC       1716 non-null   object \n",
      " 8   LOCATION_DESC            12335 non-null  object \n",
      " 9   STATISTICAL_MURDER_FLAG  27312 non-null  bool   \n",
      " 10  PERP_AGE_GROUP           17968 non-null  object \n",
      " 11  PERP_SEX                 18002 non-null  object \n",
      " 12  PERP_RACE                18002 non-null  object \n",
      " 13  VIC_AGE_GROUP            27312 non-null  object \n",
      " 14  VIC_SEX                  27312 non-null  object \n",
      " 15  VIC_RACE                 27312 non-null  object \n",
      " 16  X_COORD_CD               27312 non-null  float64\n",
      " 17  Y_COORD_CD               27312 non-null  float64\n",
      " 18  Latitude                 27302 non-null  float64\n",
      " 19  Longitude                27302 non-null  float64\n",
      " 20  Lon_Lat                  27302 non-null  object \n",
      "dtypes: bool(1), float64(5), int64(2), object(13)\n",
      "memory usage: 4.2+ MB\n",
      "None\n"
     ]
    }
   ],
   "source": [
    "# Check data types and missing values\n",
    "print(\"\\nData types and missing values:\")\n",
    "print(ny_sc.info())"
   ]
  },
  {
   "cell_type": "code",
   "execution_count": 174,
   "id": "b9907516",
   "metadata": {},
   "outputs": [
    {
     "name": "stdout",
     "output_type": "stream",
     "text": [
      "\n",
      "Number of missing values per column:\n",
      "INCIDENT_KEY                   0\n",
      "OCCUR_DATE                     0\n",
      "OCCUR_TIME                     0\n",
      "BORO                           0\n",
      "LOC_OF_OCCUR_DESC          25596\n",
      "PRECINCT                       0\n",
      "JURISDICTION_CODE              2\n",
      "LOC_CLASSFCTN_DESC         25596\n",
      "LOCATION_DESC              14977\n",
      "STATISTICAL_MURDER_FLAG        0\n",
      "PERP_AGE_GROUP              9344\n",
      "PERP_SEX                    9310\n",
      "PERP_RACE                   9310\n",
      "VIC_AGE_GROUP                  0\n",
      "VIC_SEX                        0\n",
      "VIC_RACE                       0\n",
      "X_COORD_CD                     0\n",
      "Y_COORD_CD                     0\n",
      "Latitude                      10\n",
      "Longitude                     10\n",
      "Lon_Lat                       10\n",
      "dtype: int64\n"
     ]
    }
   ],
   "source": [
    "# Check for missing values\n",
    "print(\"\\nNumber of missing values per column:\")\n",
    "print(ny_sc.isnull().sum())"
   ]
  },
  {
   "cell_type": "code",
   "execution_count": 175,
   "id": "527dab4e",
   "metadata": {},
   "outputs": [],
   "source": [
    "# For 'LOC_OF_OCCUR_DESC' and 'LOC_CLASSFCTN_DESC', fill missing values with 'Unknown'\n",
    "ny_sc['LOC_OF_OCCUR_DESC'].fillna('Unknown', inplace=True)\n",
    "ny_sc['LOC_CLASSFCTN_DESC'].fillna('Unknown', inplace=True)"
   ]
  },
  {
   "cell_type": "code",
   "execution_count": 176,
   "id": "e38f4a7b",
   "metadata": {},
   "outputs": [],
   "source": [
    "# Drop rows where 'Latitude' or 'Longitude' is missing\n",
    "ny_sc = ny_sc.dropna(subset=['Latitude', 'Longitude'])"
   ]
  },
  {
   "cell_type": "code",
   "execution_count": 177,
   "id": "3965acdd",
   "metadata": {},
   "outputs": [],
   "source": [
    "# For 'LOCATION_DESC', fill missing values with 'Unknown'\n",
    "ny_sc['LOCATION_DESC'].fillna('Unknown', inplace=True)"
   ]
  },
  {
   "cell_type": "code",
   "execution_count": 178,
   "id": "537b5ac8",
   "metadata": {},
   "outputs": [],
   "source": [
    "# For 'PERP_AGE_GROUP', 'PERP_SEX', and 'PERP_RACE', fill missing values with 'Unknown'\n",
    "ny_sc['PERP_AGE_GROUP'].fillna('Unknown', inplace=True)\n",
    "ny_sc['PERP_SEX'].fillna('Unknown', inplace=True)\n",
    "ny_sc['PERP_RACE'].fillna('Unknown', inplace=True)"
   ]
  },
  {
   "cell_type": "code",
   "execution_count": 179,
   "id": "d9b84a38",
   "metadata": {},
   "outputs": [],
   "source": [
    "# For 'JURISDICTION_CODE', fill missing values with the most frequent value (mode)\n",
    "ny_sc['JURISDICTION_CODE'].fillna(ny_sc['JURISDICTION_CODE'].mode()[0], inplace=True)"
   ]
  },
  {
   "cell_type": "code",
   "execution_count": 180,
   "id": "ffdd811e",
   "metadata": {},
   "outputs": [],
   "source": [
    "#Correct errors and ensure consistency\n",
    "# Convert 'OCCUR_DATE' and 'OCCUR_TIME' to datetime format\n",
    "ny_sc['OCCUR_DATETIME'] = pd.to_datetime(ny_sc['OCCUR_DATE'] + ' ' + ny_sc['OCCUR_TIME'], format='%m/%d/%Y %H:%M:%S')"
   ]
  },
  {
   "cell_type": "code",
   "execution_count": 181,
   "id": "bda46a5e",
   "metadata": {},
   "outputs": [],
   "source": [
    "# Extract useful time-based features\n",
    "ny_sc['YEAR'] = ny_sc['OCCUR_DATETIME'].dt.year\n",
    "ny_sc['MONTH'] = ny_sc['OCCUR_DATETIME'].dt.month\n",
    "ny_sc['DAY'] = ny_sc['OCCUR_DATETIME'].dt.day\n",
    "ny_sc['HOUR'] = ny_sc['OCCUR_DATETIME'].dt.hour\n",
    "ny_sc['WEEKDAY'] = ny_sc['OCCUR_DATETIME'].dt.weekday"
   ]
  },
  {
   "cell_type": "code",
   "execution_count": 182,
   "id": "8cf9af4d",
   "metadata": {},
   "outputs": [],
   "source": [
    "# Remove duplicates if any\n",
    "ny_sc.drop_duplicates(inplace=True)"
   ]
  },
  {
   "cell_type": "code",
   "execution_count": 183,
   "id": "5a1aea47",
   "metadata": {},
   "outputs": [
    {
     "name": "stdout",
     "output_type": "stream",
     "text": [
      "\n",
      "Number of missing values per column:\n",
      "INCIDENT_KEY               0\n",
      "OCCUR_DATE                 0\n",
      "OCCUR_TIME                 0\n",
      "BORO                       0\n",
      "LOC_OF_OCCUR_DESC          0\n",
      "PRECINCT                   0\n",
      "JURISDICTION_CODE          0\n",
      "LOC_CLASSFCTN_DESC         0\n",
      "LOCATION_DESC              0\n",
      "STATISTICAL_MURDER_FLAG    0\n",
      "PERP_AGE_GROUP             0\n",
      "PERP_SEX                   0\n",
      "PERP_RACE                  0\n",
      "VIC_AGE_GROUP              0\n",
      "VIC_SEX                    0\n",
      "VIC_RACE                   0\n",
      "X_COORD_CD                 0\n",
      "Y_COORD_CD                 0\n",
      "Latitude                   0\n",
      "Longitude                  0\n",
      "Lon_Lat                    0\n",
      "OCCUR_DATETIME             0\n",
      "YEAR                       0\n",
      "MONTH                      0\n",
      "DAY                        0\n",
      "HOUR                       0\n",
      "WEEKDAY                    0\n",
      "dtype: int64\n"
     ]
    }
   ],
   "source": [
    "# Check for missing values\n",
    "print(\"\\nNumber of missing values per column:\")\n",
    "print(ny_sc.isnull().sum())"
   ]
  },
  {
   "cell_type": "code",
   "execution_count": 184,
   "id": "a2f76f90",
   "metadata": {},
   "outputs": [],
   "source": [
    "# Save cleaned data to a new CSV file\n",
    "ny_sc.to_csv('nyc_shootings_cleaned.csv', index=False)"
   ]
  },
  {
   "cell_type": "code",
   "execution_count": 185,
   "id": "9a3d9c89",
   "metadata": {},
   "outputs": [],
   "source": [
    "# Combine OCCUR_DATE and OCCUR_TIME into a single datetime column\n",
    "ny_sc['OCCUR_DATETIME'] = pd.to_datetime(ny_sc['OCCUR_DATE'] + ' ' + ny_sc['OCCUR_TIME'])"
   ]
  },
  {
   "cell_type": "code",
   "execution_count": 186,
   "id": "da7f1dd7",
   "metadata": {},
   "outputs": [],
   "source": [
    "# Handle NaN values in location-related columns\n",
    "# Fill NaN values in Latitude and Longitude with the mean of their respective columns\n",
    "ny_sc['Latitude'].fillna(ny_sc['Latitude'].mean(), inplace=True)\n",
    "ny_sc['Longitude'].fillna(ny_sc['Longitude'].mean(), inplace=True)\n",
    "\n",
    "# Extract numeric values from 'Lon_Lat' column and calculate mean\n",
    "ny_sc['Lon_Lat'] = ny_sc['Lon_Lat'].str.extract(r'(\\-?\\d+\\.?\\d*)').astype(float)\n",
    "lon_lat_mean = ny_sc['Lon_Lat'].mean()\n",
    "\n",
    "# Fill NaN values in 'Lon_Lat' with the mean\n",
    "ny_sc['Lon_Lat'].fillna(lon_lat_mean, inplace=True)"
   ]
  },
  {
   "cell_type": "markdown",
   "id": "0714d8f8",
   "metadata": {},
   "source": [
    "# Exploratory Data Analysis (EDA)"
   ]
  },
  {
   "cell_type": "code",
   "execution_count": 187,
   "id": "808f6e14",
   "metadata": {},
   "outputs": [
    {
     "data": {
      "image/png": "[encoded data removed]",
      "text/plain": [
       "<Figure size 1000x600 with 1 Axes>"
      ]
     },
     "metadata": {},
     "output_type": "display_data"
    }
   ],
   "source": [
    "# Plot histogram of incidents by borough\n",
    "plt.figure(figsize=(10, 6))\n",
    "sns.countplot(x='BORO', data=ny_sc)\n",
    "plt.title('Incidents by Borough')\n",
    "plt.xlabel('Borough')\n",
    "plt.ylabel('Count')\n",
    "plt.xticks(rotation=45)\n",
    "plt.show()"
   ]
  },
  {
   "cell_type": "code",
   "execution_count": 188,
   "id": "906ae565",
   "metadata": {},
   "outputs": [
    {
     "data": {
      "image/png": "[encoded data removed]",
      "text/plain": [
       "<Figure size 1000x600 with 1 Axes>"
      ]
     },
     "metadata": {},
     "output_type": "display_data"
    }
   ],
   "source": [
    "# Plot histogram of incidents by year\n",
    "plt.figure(figsize=(10, 6))\n",
    "ny_sc['OCCUR_DATE'] = pd.to_datetime(ny_sc['OCCUR_DATE'])\n",
    "ny_sc['YEAR'] = ny_sc['OCCUR_DATE'].dt.year\n",
    "sns.histplot(ny_sc['YEAR'], bins=20, kde=False, color='skyblue')\n",
    "plt.title('Incidents by Year')\n",
    "plt.xlabel('Year')\n",
    "plt.ylabel('Count')\n",
    "plt.show()"
   ]
  },
  {
   "cell_type": "markdown",
   "id": "9c26a82f",
   "metadata": {},
   "source": [
    "# Feature Engineering "
   ]
  },
  {
   "cell_type": "code",
   "execution_count": 189,
   "id": "eea2e2be",
   "metadata": {},
   "outputs": [],
   "source": [
    "# Convert OCCUR_DATE and OCCUR_TIME to datetime\n",
    "ny_sc['OCCUR_DATE'] = pd.to_datetime(ny_sc['OCCUR_DATE'])  # Convert OCCUR_DATE to datetime\n",
    "ny_sc['OCCUR_TIME'] = pd.to_datetime(ny_sc['OCCUR_TIME']).dt.time  # Convert OCCUR_TIME to time"
   ]
  },
  {
   "cell_type": "code",
   "execution_count": 190,
   "id": "023409d8",
   "metadata": {},
   "outputs": [],
   "source": [
    "# Convert OCCUR_TIME to string\n",
    "ny_sc['OCCUR_TIME'] = ny_sc['OCCUR_TIME'].astype(str)"
   ]
  },
  {
   "cell_type": "code",
   "execution_count": 191,
   "id": "e57d141f",
   "metadata": {},
   "outputs": [],
   "source": [
    "# Concatenate OCCUR_DATE and OCCUR_TIME\n",
    "ny_sc['OCCUR_DATETIME'] = ny_sc['OCCUR_DATE'].astype(str) + ' ' + ny_sc['OCCUR_TIME']"
   ]
  },
  {
   "cell_type": "code",
   "execution_count": 192,
   "id": "53f3e1e4",
   "metadata": {},
   "outputs": [],
   "source": [
    "# Convert OCCUR_DATETIME to datetime\n",
    "ny_sc['OCCUR_DATETIME'] = pd.to_datetime(ny_sc['OCCUR_DATETIME'])"
   ]
  },
  {
   "cell_type": "code",
   "execution_count": 193,
   "id": "b3b43497",
   "metadata": {},
   "outputs": [],
   "source": [
    "# Extract time-based features\n",
    "ny_sc['HOUR'] = ny_sc['OCCUR_DATETIME'].dt.hour\n",
    "ny_sc['DAY_OF_WEEK'] = ny_sc['OCCUR_DATETIME'].dt.dayofweek\n",
    "ny_sc['MONTH'] = ny_sc['OCCUR_DATETIME'].dt.month"
   ]
  },
  {
   "cell_type": "code",
   "execution_count": 194,
   "id": "272031a1",
   "metadata": {},
   "outputs": [],
   "source": [
    "# Normalization\n",
    "# Select features for normalization\n",
    "features_to_scale = ['Latitude', 'Longitude', 'HOUR', 'DAY_OF_WEEK', 'MONTH']"
   ]
  },
  {
   "cell_type": "code",
   "execution_count": 195,
   "id": "0a247a1b",
   "metadata": {},
   "outputs": [],
   "source": [
    "# Scale selected features\n",
    "scaler = StandardScaler()\n",
    "ny_sc[features_to_scale] = scaler.fit_transform(ny_sc[features_to_scale])"
   ]
  },
  {
   "cell_type": "code",
   "execution_count": 196,
   "id": "a588b311",
   "metadata": {},
   "outputs": [],
   "source": [
    "# Drop unnecessary columns\n",
    "ny_sc.drop(['OCCUR_DATE', 'OCCUR_TIME', 'OCCUR_DATETIME'], axis=1, inplace=True)"
   ]
  },
  {
   "cell_type": "code",
   "execution_count": 197,
   "id": "99718a11",
   "metadata": {},
   "outputs": [
    {
     "name": "stdout",
     "output_type": "stream",
     "text": [
      "   INCIDENT_KEY    BORO LOC_OF_OCCUR_DESC  PRECINCT  JURISDICTION_CODE  \\\n",
      "0     228798151  QUEENS           Unknown       105                0.0   \n",
      "1     137471050   BRONX           Unknown        40                0.0   \n",
      "2     147998800  QUEENS           Unknown       108                0.0   \n",
      "3     146837977   BRONX           Unknown        44                0.0   \n",
      "4      58921844   BRONX           Unknown        47                0.0   \n",
      "\n",
      "  LOC_CLASSFCTN_DESC LOCATION_DESC  STATISTICAL_MURDER_FLAG PERP_AGE_GROUP  \\\n",
      "0            Unknown       Unknown                    False        Unknown   \n",
      "1            Unknown       Unknown                    False        Unknown   \n",
      "2            Unknown       Unknown                     True        Unknown   \n",
      "3            Unknown       Unknown                    False        Unknown   \n",
      "4            Unknown       Unknown                     True          25-44   \n",
      "\n",
      "  PERP_SEX  ...     Y_COORD_CD  Latitude Longitude    Lon_Lat  YEAR     MONTH  \\\n",
      "0  Unknown  ...  180924.000000 -0.856086  2.689147 -73.730839  2021 -0.583005   \n",
      "1  Unknown  ...  234516.000000  0.827887 -0.239789 -73.924942  2014 -0.263389   \n",
      "2  Unknown  ...  209836.531250  0.053864 -0.097184 -73.915492  2015  1.334691   \n",
      "3  Unknown  ...  244511.140625  1.141290 -0.157012 -73.919457  2015  1.015075   \n",
      "4        M  ...  262189.406250  1.694923  0.847153 -73.852910  2009 -1.541853   \n",
      "\n",
      "   DAY      HOUR  WEEKDAY  DAY_OF_WEEK  \n",
      "0   27  1.034401        3    -0.162863  \n",
      "1   27  0.563001        4     0.312596  \n",
      "2   21 -1.086899        5     0.788055  \n",
      "3    9  0.680851        4     0.312596  \n",
      "4   19  1.152251        3    -0.162863  \n",
      "\n",
      "[5 rows x 25 columns]\n"
     ]
    }
   ],
   "source": [
    "# Check the modified dataframe\n",
    "print(ny_sc.head())"
   ]
  },
  {
   "cell_type": "markdown",
   "id": "4f664de9",
   "metadata": {},
   "source": [
    "# Clustering Algorithm Selection"
   ]
  },
  {
   "cell_type": "code",
   "execution_count": 242,
   "id": "19279f29",
   "metadata": {},
   "outputs": [
    {
     "data": {
      "image/png": "[encoded data removed]",
      "text/plain": [
       "<Figure size 640x480 with 1 Axes>"
      ]
     },
     "metadata": {},
     "output_type": "display_data"
    }
   ],
   "source": [
    "# Determine optimal number of clusters for K-Means using Elbow method\n",
    "silhouette_scores = []\n",
    "K = range(2, 10)\n",
    "for k in K:\n",
    "    kmeans = KMeans(n_clusters=k, random_state=42)\n",
    "    kmeans.fit(features_scaled)\n",
    "    silhouette_scores.append(silhouette_score(features_scaled, kmeans.labels_))\n",
    "    optimal_k = np.argmax(silhouette_scores) + 2 \n",
    "\n",
    "plt.plot(K, silhouette_scores, 'bx-')\n",
    "plt.xlabel('k')\n",
    "plt.ylabel('Silhouette score')\n",
    "plt.title('The Elbow Method showing the optimal k')\n",
    "plt.show()"
   ]
  },
  {
   "cell_type": "code",
   "execution_count": 200,
   "id": "8f253e38",
   "metadata": {},
   "outputs": [],
   "source": [
    "# Apply K-Means clustering\n",
    "optimal_k = 4  # Example optimal k from Elbow method\n",
    "kmeans = KMeans(n_clusters=optimal_k, random_state=42)\n",
    "clusters = kmeans.fit_predict(features_scaled)\n",
    "ny_sc['cluster_kmeans'] = clusters"
   ]
  },
  {
   "cell_type": "code",
   "execution_count": 202,
   "id": "6967fc68",
   "metadata": {},
   "outputs": [],
   "source": [
    "# Apply DBSCAN clustering\n",
    "dbscan = DBSCAN(eps=0.5, min_samples=10)\n",
    "clusters_dbscan = dbscan.fit_predict(features_scaled)\n",
    "ny_sc['cluster_dbscan'] = clusters_dbscan"
   ]
  },
  {
   "cell_type": "code",
   "execution_count": 207,
   "id": "0283efa3",
   "metadata": {},
   "outputs": [],
   "source": [
    "# Visualize clusters on a map\n",
    "map_nyc = folium.Map(location=[ny_sc['Latitude'].mean(), ny_sc['Longitude'].mean()], zoom_start=12)\n",
    "colors = ['blue', 'green', 'red', 'orange', 'purple', 'yellow', 'brown', 'pink']"
   ]
  },
  {
   "cell_type": "code",
   "execution_count": 213,
   "id": "ae274e22",
   "metadata": {},
   "outputs": [],
   "source": [
    "# K-Means Clusters\n",
    "for idx, row in ny_sc.iterrows():\n",
    "    folium.CircleMarker(location=[row['Latitude'], row['Longitude']],\n",
    "                        radius=3,\n",
    "                        color=colors[row['cluster_kmeans'] % len(colors)]).add_to(map_nyc)\n",
    "map_nyc.save('nyc_shootings_clusters_kmeans.html')"
   ]
  },
  {
   "cell_type": "code",
   "execution_count": 212,
   "id": "dbc1efcb",
   "metadata": {},
   "outputs": [],
   "source": [
    "# DBSCAN Clusters\n",
    "map_nyc_dbscan = folium.Map(location=[ny_sc['Latitude'].mean(), ny_sc['Longitude'].mean()], zoom_start=12)\n",
    "for idx, row in ny_sc.iterrows():\n",
    "    if row['cluster_dbscan'] != -1:\n",
    "        folium.CircleMarker(location=[row['Latitude'], row['Longitude']],\n",
    "                            radius=3,\n",
    "                            color=colors[row['cluster_dbscan'] % len(colors)]).add_to(map_nyc_dbscan)\n",
    "map_nyc_dbscan.save('nyc_shootings_clusters_dbscan.html')"
   ]
  },
  {
   "cell_type": "code",
   "execution_count": 216,
   "id": "8d54b3bd",
   "metadata": {},
   "outputs": [],
   "source": [
    "# Determine the optimal number of clusters using the Elbow method\n",
    "inertia = []\n",
    "silhouette_scores = []\n",
    "k_range = range(2, 11)\n",
    "for k in k_range:\n",
    "    kmeans = KMeans(n_clusters=k, random_state=42)\n",
    "    kmeans.fit(features_scaled)\n",
    "    inertia.append(kmeans.inertia_)  # Sum of squared distances to closest centroid\n",
    "    silhouette_scores.append(silhouette_score(features_scaled, kmeans.labels_))"
   ]
  },
  {
   "cell_type": "code",
   "execution_count": 217,
   "id": "3de0f2e7",
   "metadata": {},
   "outputs": [
    {
     "data": {
      "image/png": "[encoded data removed]",
      "text/plain": [
       "<Figure size 1200x600 with 2 Axes>"
      ]
     },
     "metadata": {},
     "output_type": "display_data"
    }
   ],
   "source": [
    "# Plot the Elbow method and Silhouette scores\n",
    "plt.figure(figsize=(12, 6))\n",
    "plt.subplot(1, 2, 1)\n",
    "plt.plot(k_range, inertia, marker='o')\n",
    "plt.xlabel('Number of Clusters (k)')\n",
    "plt.ylabel('Inertia')\n",
    "plt.title('Elbow Method')\n",
    "\n",
    "plt.subplot(1, 2, 2)\n",
    "plt.plot(k_range, silhouette_scores, marker='o')\n",
    "plt.xlabel('Number of Clusters (k)')\n",
    "plt.ylabel('Silhouette Score')\n",
    "plt.title('Silhouette Score')\n",
    "\n",
    "plt.tight_layout()\n",
    "plt.show()"
   ]
  },
  {
   "cell_type": "code",
   "execution_count": 218,
   "id": "b8da87cd",
   "metadata": {},
   "outputs": [],
   "source": [
    "# From the plots, determine the optimal number of clusters\n",
    "optimal_k = 4  # Example: Based on the Elbow method or Silhouette score analysis\n",
    "\n",
    "# Run K-Means with the optimal number of clusters\n",
    "kmeans = KMeans(n_clusters=optimal_k, random_state=42)\n",
    "ny_sc['Cluster'] = kmeans.fit_predict(features_scaled)"
   ]
  },
  {
   "cell_type": "code",
   "execution_count": 219,
   "id": "29851f24",
   "metadata": {},
   "outputs": [],
   "source": [
    "# Determine optimal number of clusters using silhouette score\n",
    "silhouette_scores = []\n",
    "K = range(2, 11)  # Trying different numbers of clusters\n",
    "for k in K:\n",
    "    kmeans = KMeans(n_clusters=k, random_state=42)\n",
    "    clusters = kmeans.fit_predict(features)\n",
    "    silhouette_scores.append(silhouette_score(features, clusters))"
   ]
  },
  {
   "cell_type": "code",
   "execution_count": 220,
   "id": "41e19079",
   "metadata": {},
   "outputs": [
    {
     "data": {
      "image/png": "[encoded data removed]",
      "text/plain": [
       "<Figure size 640x480 with 1 Axes>"
      ]
     },
     "metadata": {},
     "output_type": "display_data"
    }
   ],
   "source": [
    "# Plot silhouette scores\n",
    "plt.plot(K, silhouette_scores, 'bx-')\n",
    "plt.xlabel('Number of Clusters')\n",
    "plt.ylabel('Silhouette Score')\n",
    "plt.title('Silhouette Score for Different Numbers of Clusters')\n",
    "plt.show()"
   ]
  },
  {
   "cell_type": "code",
   "execution_count": 221,
   "id": "bdfb8f95",
   "metadata": {},
   "outputs": [],
   "source": [
    "# Choose the number of clusters with the highest silhouette score\n",
    "optimal_k = K[np.argmax(silhouette_scores)]"
   ]
  },
  {
   "cell_type": "code",
   "execution_count": 222,
   "id": "9ca55a93",
   "metadata": {},
   "outputs": [],
   "source": [
    "# Apply K-Means clustering with optimal number of clusters\n",
    "kmeans = KMeans(n_clusters=optimal_k, random_state=42)\n",
    "clusters = kmeans.fit_predict(features)\n",
    "ny_sc['Cluster'] = clusters"
   ]
  },
  {
   "cell_type": "code",
   "execution_count": 223,
   "id": "12ba729f",
   "metadata": {},
   "outputs": [],
   "source": [
    "# Visualize clusters on map using Folium\n",
    "map_nyc = folium.Map(location=[ny_sc['Latitude'].mean(), ny_sc['Longitude'].mean()], zoom_start=11)"
   ]
  },
  {
   "cell_type": "code",
   "execution_count": 224,
   "id": "622fed9a",
   "metadata": {},
   "outputs": [],
   "source": [
    "# Define colors for clusters\n",
    "cluster_colors = ['blue', 'green', 'red', 'orange', 'purple', 'cyan', 'magenta', 'yellow', 'gray', 'black']"
   ]
  },
  {
   "cell_type": "code",
   "execution_count": 227,
   "id": "434965b0",
   "metadata": {},
   "outputs": [],
   "source": [
    "# Plot each point with its cluster color\n",
    "for idx, row in ny_sc.iterrows():\n",
    "    folium.CircleMarker(location=[row['Latitude'], row['Longitude']],\n",
    "                        radius=3,\n",
    "                        color=cluster_colors[row['Cluster']],\n",
    "                        fill=True,\n",
    "                        fill_color=cluster_colors[row['Cluster']]).add_to(map_nyc)\n",
    "\n",
    "map_nyc.save('ny_clusters_map.html')"
   ]
  },
  {
   "cell_type": "code",
   "execution_count": 228,
   "id": "2f015470",
   "metadata": {},
   "outputs": [],
   "source": [
    "# Analyze the characteristics of each cluster\n",
    "cluster_analysis = ny_sc.groupby('cluster_kmeans').agg({\n",
    "    'Latitude': 'mean',\n",
    "    'Longitude': 'mean',\n",
    "    'HOUR': ['mean', 'median', 'count']\n",
    "}).reset_index()"
   ]
  },
  {
   "cell_type": "code",
   "execution_count": 229,
   "id": "0f7a707d",
   "metadata": {},
   "outputs": [],
   "source": [
    "# Rename columns for clarity\n",
    "cluster_analysis.columns = ['Cluster', 'Mean_Latitude', 'Mean_Longitude', 'Mean_Hour', 'Median_Hour', 'Incident_Count']"
   ]
  },
  {
   "cell_type": "code",
   "execution_count": 230,
   "id": "74a6a1c9",
   "metadata": {},
   "outputs": [],
   "source": [
    "# Sort clusters by incident count\n",
    "cluster_analysis = cluster_analysis.sort_values(by='Incident_Count', ascending=False)"
   ]
  },
  {
   "cell_type": "code",
   "execution_count": 231,
   "id": "ba3e88dc",
   "metadata": {},
   "outputs": [
    {
     "name": "stdout",
     "output_type": "stream",
     "text": [
      "Cluster Analysis:\n",
      "   Cluster  Mean_Latitude  Mean_Longitude  Mean_Hour  Median_Hour  \\\n",
      "2        2      -0.844416       -0.612721   0.551282     0.798701   \n",
      "0        0       0.194303       -0.156854  -1.152042    -1.204749   \n",
      "1        1       1.095282        0.087001   0.686283     0.798701   \n",
      "3        3      -0.754131        1.905373  -0.052295     0.209451   \n",
      "\n",
      "   Incident_Count  \n",
      "2            8588  \n",
      "0            8311  \n",
      "1            7290  \n",
      "3            3113  \n"
     ]
    }
   ],
   "source": [
    "# Display cluster characteristics\n",
    "print(\"Cluster Analysis:\")\n",
    "print(cluster_analysis)"
   ]
  },
  {
   "cell_type": "code",
   "execution_count": 232,
   "id": "fc81b1ea",
   "metadata": {},
   "outputs": [
    {
     "name": "stdout",
     "output_type": "stream",
     "text": [
      "\n",
      "Insights:\n",
      "\n",
      "Cluster 2.0:\n",
      "- Mean Latitude: -0.8444163426022551\n",
      "- Mean Longitude: -0.6127214883083022\n",
      "- Mean Hour: 0.5512821864295607\n",
      "- Median Hour: 0.7987013889204333\n",
      "- Incident Count: 8588.0\n",
      "\n",
      "Cluster 0.0:\n",
      "- Mean Latitude: 0.1943028956856023\n",
      "- Mean Longitude: -0.15685420270041564\n",
      "- Mean Hour: -1.1520421030664862\n",
      "- Median Hour: -1.204749187167056\n",
      "- Incident Count: 8311.0\n",
      "\n",
      "Cluster 1.0:\n",
      "- Mean Latitude: 1.09528217321876\n",
      "- Mean Longitude: 0.08700137110290931\n",
      "- Mean Hour: 0.686283126142152\n",
      "- Median Hour: 0.7987013889204333\n",
      "- Incident Count: 7290.0\n",
      "\n",
      "Cluster 3.0:\n",
      "- Mean Latitude: -0.7541313390746306\n",
      "- Mean Longitude: 1.9053734098586874\n",
      "- Mean Hour: -0.052294727930545924\n",
      "- Median Hour: 0.20945121948293646\n",
      "- Incident Count: 3113.0\n"
     ]
    }
   ],
   "source": [
    "# Derive insights\n",
    "print(\"\\nInsights:\")\n",
    "for idx, row in cluster_analysis.iterrows():\n",
    "    print(f\"\\nCluster {row['Cluster']}:\")\n",
    "    print(f\"- Mean Latitude: {row['Mean_Latitude']}\")\n",
    "    print(f\"- Mean Longitude: {row['Mean_Longitude']}\")\n",
    "    print(f\"- Mean Hour: {row['Mean_Hour']}\")\n",
    "    print(f\"- Median Hour: {row['Median_Hour']}\")\n",
    "    print(f\"- Incident Count: {row['Incident_Count']}\")"
   ]
  },
  {
   "cell_type": "code",
   "execution_count": 235,
   "id": "7d212965",
   "metadata": {},
   "outputs": [
    {
     "data": {
      "image/png": "[encoded data removed]",
      "text/plain": [
       "<Figure size 1000x600 with 1 Axes>"
      ]
     },
     "metadata": {},
     "output_type": "display_data"
    }
   ],
   "source": [
    "# Generate cluster summary\n",
    "cluster_summary = ny_sc.groupby('Cluster').size().reset_index(name='counts')\n",
    "\n",
    "# Visualize cluster summary\n",
    "plt.figure(figsize=(10, 6))\n",
    "sns.barplot(x='Cluster', y='counts', data=cluster_summary, palette='viridis')\n",
    "plt.title('Number of Shootings in Each Cluster')\n",
    "plt.xlabel('Cluster')\n",
    "plt.ylabel('Number of Shootings')\n",
    "plt.savefig('cluster_summary.png')\n",
    "plt.show()"
   ]
  },
  {
   "cell_type": "code",
   "execution_count": 236,
   "id": "e0f1c9c6",
   "metadata": {},
   "outputs": [
    {
     "name": "stdout",
     "output_type": "stream",
     "text": [
      "Methodology:\n",
      "1. Loaded the NYC shootings dataset.\n",
      "2. Preprocessed the data by converting OCCUR_DATE and OCCUR_TIME to datetime, and extracting the hour.\n",
      "3. Applied K-Means clustering to identify spatial clusters.\n",
      "4. Visualized the clusters on a map using Folium.\n",
      "5. Generated a bar plot to summarize the number of shootings in each cluster.\n"
     ]
    }
   ],
   "source": [
    "# Document findings\n",
    "print(\"Methodology:\")\n",
    "print(\"1. Loaded the NYC shootings dataset.\")\n",
    "print(\"2. Preprocessed the data by converting OCCUR_DATE and OCCUR_TIME to datetime, and extracting the hour.\")\n",
    "print(\"3. Applied K-Means clustering to identify spatial clusters.\")\n",
    "print(\"4. Visualized the clusters on a map using Folium.\")\n",
    "print(\"5. Generated a bar plot to summarize the number of shootings in each cluster.\")"
   ]
  },
  {
   "cell_type": "code",
   "execution_count": 237,
   "id": "6f82e15a",
   "metadata": {},
   "outputs": [
    {
     "name": "stdout",
     "output_type": "stream",
     "text": [
      "\n",
      "Findings:\n",
      "Based on the analysis, we identified 9 clusters of shooting incidents in NYC.\n",
      "Cluster 0 has the highest number of shootings, followed by Cluster 1 and Cluster 2.\n",
      "The distribution of shootings across clusters suggests spatial patterns in the occurrence of incidents.\n"
     ]
    }
   ],
   "source": [
    "print(\"\\nFindings:\")\n",
    "print(\"Based on the analysis, we identified\", optimal_k, \"clusters of shooting incidents in NYC.\")\n",
    "print(\"Cluster 0 has the highest number of shootings, followed by Cluster 1 and Cluster 2.\")\n",
    "print(\"The distribution of shootings across clusters suggests spatial patterns in the occurrence of incidents.\")"
   ]
  },
  {
   "cell_type": "code",
   "execution_count": 238,
   "id": "a33274b4",
   "metadata": {},
   "outputs": [
    {
     "name": "stdout",
     "output_type": "stream",
     "text": [
      "\n",
      "Conclusions:\n",
      "The clustering analysis provides valuable insights into the spatial distribution of shootings in NYC.\n",
      "Law enforcement agencies and policymakers can use these findings to allocate resources more effectively and implement targeted interventions to reduce gun violence.\n"
     ]
    }
   ],
   "source": [
    "print(\"\\nConclusions:\")\n",
    "print(\"The clustering analysis provides valuable insights into the spatial distribution of shootings in NYC.\")\n",
    "print(\"Law enforcement agencies and policymakers can use these findings to allocate resources more effectively and implement targeted interventions to reduce gun violence.\")"
   ]
  },
  {
   "cell_type": "code",
   "execution_count": null,
   "id": "03298e60",
   "metadata": {},
   "outputs": [],
   "source": []
  },
  {
   "cell_type": "code",
   "execution_count": null,
   "id": "57ff3cfa",
   "metadata": {},
   "outputs": [],
   "source": []
  }
 ],
 "metadata": {
  "kernelspec": {
   "display_name": "Python 3 (ipykernel)",
   "language": "python",
   "name": "python3"
  },
  "language_info": {
   "codemirror_mode": {
    "name": "ipython",
    "version": 3
   },
   "file_extension": ".py",
   "mimetype": "text/x-python",
   "name": "python",
   "nbconvert_exporter": "python",
   "pygments_lexer": "ipython3",
   "version": "3.11.5"
  }
 },
 "nbformat": 4,
 "nbformat_minor": 5
}
